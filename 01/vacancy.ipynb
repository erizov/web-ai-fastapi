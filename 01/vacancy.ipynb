{
 "cells": [
  {
   "cell_type": "markdown",
   "id": "ab3d3fa3",
   "metadata": {},
   "source": [
    "# Генерация вакансии\n",
    "# System data is comming from the file base/system_vacancy.md"
   ]
  },
  {
   "cell_type": "code",
   "execution_count": 9,
   "id": "f70e119f",
   "metadata": {},
   "outputs": [
    {
     "name": "stdout",
     "output_type": "stream",
     "text": [
      "**Вакансия: Веб-разработчик**\n",
      "\n",
      "**Мы ищем тебя!** Если ты — талантливый веб-разработчик с горящими глазами и стремлением к новым высотам, то эта вакансия — именно для тебя!\n",
      "\n",
      "**Обязанности:**\n",
      "- Разработка современных веб-приложений, которые будут радовать пользователей своей функциональностью и удобством.\n",
      "- Поддержка текущих проектов, улучшение их производительности и безопасности.\n",
      "- Оптимизация процессов разработки для достижения максимальной эффективности.\n",
      "\n",
      "**Требования:**\n",
      "- Уверенные знания Python и JavaScript.\n",
      "- Опыт работы с FastAPI и React.\n",
      "- Умение работать в команде, где каждый голос имеет значение.\n",
      "\n",
      "**Условия:**\n",
      "- Гибкий график работы — мы ценим твое время и понимаем, что баланс между работой и личной жизнью важен.\n",
      "- Удалённая работа — работай из любого удобного для тебя места!\n",
      "- Конкурентная заработная плата, отражающая твои навыки и усилия.\n",
      "\n",
      "**Почему именно мы?**\n",
      "Наша команда — это не просто коллеги, а настоящая семья, где каждый поддерживает друг друга и вдохновляет на новые свершения. Мы создаем не просто продукты, а ценности, которые изменяют жизнь людей к лучшему. Если ты готов стать частью нашей дружной команды, мы ждем тебя!\n",
      "\n",
      "Не упусти возможность — отправь свое резюме и давай создавать будущее вместе!\n"
     ]
    }
   ],
   "source": [
    "import os\n",
    "from dotenv import load_dotenv\n",
    "from openai import AsyncOpenAI\n",
    "from app.config import OPENAI_API_KEY\n",
    "from app.config import OPENAI_API_BASE\n",
    "\n",
    "# 1️⃣ Загружаем .env\n",
    "load_dotenv()\n",
    "\n",
    "# 2️⃣ Читаем system из файла\n",
    "with open(\"base/system_vacancy.md\", \"r\", encoding=\"utf-8\") as f:\n",
    "    system_content = f.read()\n",
    "\n",
    "# 3️⃣ Значения вакансии (user) выносим в словарь\n",
    "vacancy_data = {\n",
    "    \"Должность\": \"Веб-разработчик\",\n",
    "    \"Обязанности\": \"Разработка веб-приложений, поддержка проектов, оптимизация\",\n",
    "    \"Требования\": \"Опыт Python и JavaScript, знание FastAPI и React, командная работа\",\n",
    "    \"Язык\": \"русский\",\n",
    "    \"Условия\": \"гибкий график, удалённая работа, конкурентная зарплата\",\n",
    "    \"Стиль подачи и прочие пожелания\": \"дружелюбный, мотивирующий, ориентирован на специалистов среднего уровня\"\n",
    "}\n",
    "\n",
    "# 4️⃣ Формируем content для user\n",
    "user_content = \"\\n\".join([f\"{k}: {v}\" for k, v in vacancy_data.items()])\n",
    "\n",
    "# 5️⃣ Формируем messages\n",
    "messages = [\n",
    "    {\"role\": \"system\", \"content\": system_content},\n",
    "    {\"role\": \"user\", \"content\": f\"Сделай описание вакансии со следующими параметрами:\\n{user_content}\"}\n",
    "]\n",
    "\n",
    "# 6️⃣ Асинхронный вызов OpenAI\n",
    "async def generate_vacancy_description():\n",
    "    #client = AsyncOpenAI(api_key=os.getenv(\"OPENAI_API_KEY\"))\n",
    "    client = AsyncOpenAI(api_key=OPENAI_API_KEY, base_url=OPENAI_API_BASE)\n",
    "    response = await client.chat.completions.create(\n",
    "        model=\"gpt-4o-mini\",        \n",
    "        messages=messages,\n",
    "        temperature=0.7\n",
    "    )\n",
    "    return response.choices[0].message.content\n",
    "\n",
    "# 7️⃣ Запуск\n",
    "description = await generate_vacancy_description()\n",
    "print(description)"
   ]
  },
  {
   "cell_type": "markdown",
   "id": "196fcd55",
   "metadata": {},
   "source": [
    "# Testing the vacancy using GPT service via proxy to avoid country restriction"
   ]
  },
  {
   "cell_type": "code",
   "execution_count": 5,
   "metadata": {},
   "outputs": [
    {
     "name": "stdout",
     "output_type": "stream",
     "text": [
      "{'job_title': 'Senior Python разработчик', 'company': 'TechSolutions', 'location': 'удалённая работа', 'employment_type': 'удалённая', 'experience_level': 'от 5 лет', 'skills': ['Python', 'Django', 'REST API', 'PostgreSQL', 'Git'], 'salary': '200 000–250 000 руб.', 'description': 'Компания TechSolutions ищет Senior Python разработчика для удалённой работы.', 'requirements': ['знание Git', 'умение работать в команде', 'внимательность к деталям'], 'responsibilities': ['разработка и поддержка веб-приложений', 'участие в проектировании архитектуры']}\n"
     ]
    }
   ],
   "source": [
    "import requests\n",
    "\n",
    "url = \"http://127.0.0.1:8000/vacancy/parse\"\n",
    "\n",
    "payload = {\n",
    "    \"type\": \"file\",\n",
    "    \"description\": \"Компания TechSolutions ищет Senior Python разработчика для удалённой работы. \\\n",
    "    Обязательные навыки: Python, Django, REST API, PostgreSQL. \\\n",
    "    Опыт работы от 5 лет. \\\n",
    "    Зарплата: 200 000–250 000 руб. \\\n",
    "    Обязанности: разработка и поддержка веб-приложений, участие в проектировании архитектуры. \\\n",
    "    Требования: знание Git, умение работать в команде, внимательность к деталям.\"\n",
    "}\n",
    "\n",
    "response = requests.post(url, json=payload)\n",
    "print(response.json())"
   ]
  }
 ],
 "metadata": {
  "kernelspec": {
   "display_name": "venv",
   "language": "python",
   "name": "python3"
  },
  "language_info": {
   "codemirror_mode": {
    "name": "ipython",
    "version": 3
   },
   "file_extension": ".py",
   "mimetype": "text/x-python",
   "name": "python",
   "nbconvert_exporter": "python",
   "pygments_lexer": "ipython3",
   "version": "3.13.7"
  }
 },
 "nbformat": 4,
 "nbformat_minor": 5
}
