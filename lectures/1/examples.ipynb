{
 "cells": [
  {
   "cell_type": "code",
   "execution_count": 2,
   "id": "aedb4912",
   "metadata": {},
   "outputs": [
    {
     "data": {
      "text/plain": [
       "{'message': 'Hello, World!'}"
      ]
     },
     "execution_count": 2,
     "metadata": {},
     "output_type": "execute_result"
    }
   ],
   "source": [
    "import requests\n",
    "\n",
    "# 1. /hello\n",
    "# Возвращает простой словарь, пример базового маршрута\n",
    "r = requests.get(\"http://127.0.0.1:8000/examples/hello\")\n",
    "r.json()"
   ]
  },
  {
   "cell_type": "code",
   "execution_count": 3,
   "id": "451ed3d2",
   "metadata": {},
   "outputs": [
    {
     "data": {
      "text/plain": [
       "{'greeting': 'Привет, Alex! Тебе 30 лет.'}"
      ]
     },
     "execution_count": 3,
     "metadata": {},
     "output_type": "execute_result"
    }
   ],
   "source": [
    "# 2. /greet\n",
    "# Query — параметры после ? в URL, можно задавать описание и дефолтное значение\n",
    "r = requests.get(\"http://127.0.0.1:8000/examples/greet\", params={\"name\":\"Alex\",\"age\":30})\n",
    "r.json()"
   ]
  },
  {
   "cell_type": "code",
   "execution_count": 4,
   "id": "3fd677a2",
   "metadata": {},
   "outputs": [
    {
     "data": {
      "text/plain": [
       "{'user_id': 42, 'name': 'User42'}"
      ]
     },
     "execution_count": 4,
     "metadata": {},
     "output_type": "execute_result"
    }
   ],
   "source": [
    "# 3. /user/{user_id}\n",
    "# Path — часть URL, пример /user/42, можно добавлять описание\n",
    "r = requests.get(\"http://127.0.0.1:8000/examples/user/42\")\n",
    "r.json()"
   ]
  },
  {
   "cell_type": "code",
   "execution_count": 7,
   "id": "b93be855",
   "metadata": {},
   "outputs": [
    {
     "data": {
      "text/plain": [
       "{'order_id': '123'}"
      ]
     },
     "execution_count": 7,
     "metadata": {},
     "output_type": "execute_result"
    }
   ],
   "source": [
    "# 4. /order/{order_id} (регулярка)\n",
    "# GET с path-параметром с регулярным выражением\n",
    "r = requests.get(\"http://127.0.0.1:8000/examples/order/123\")\n",
    "r.json()"
   ]
  },
  {
   "cell_type": "code",
   "execution_count": 8,
   "id": "5667467b",
   "metadata": {},
   "outputs": [
    {
     "data": {
      "text/plain": [
       "{'you_sent': {'key': 'value'}}"
      ]
     },
     "execution_count": 8,
     "metadata": {},
     "output_type": "execute_result"
    }
   ],
   "source": [
    "# 5. /echo\n",
    "# Body — данные POST запроса, передаются как JSON\n",
    "r = requests.post(\"http://127.0.0.1:8000/examples/echo\", json={\"key\":\"value\"})\n",
    "r.json()"
   ]
  },
  {
   "cell_type": "code",
   "execution_count": 9,
   "id": "916b8c8f",
   "metadata": {},
   "outputs": [
    {
     "data": {
      "text/plain": [
       "'Твой текст: Привет'"
      ]
     },
     "execution_count": 9,
     "metadata": {},
     "output_type": "execute_result"
    }
   ],
   "source": [
    "# 6. /text\n",
    "# Пример возврата PlainTextResponse\n",
    "r = requests.post(\"http://127.0.0.1:8000/examples/text\", json={\"message\":\"Привет\"})\n",
    "r.text"
   ]
  },
  {
   "cell_type": "code",
   "execution_count": 10,
   "id": "541f19e5",
   "metadata": {},
   "outputs": [
    {
     "data": {
      "text/plain": [
       "{'a': 5, 'b': 7, 'sum': 12}"
      ]
     },
     "execution_count": 10,
     "metadata": {},
     "output_type": "execute_result"
    }
   ],
   "source": [
    "# 7. /sum\n",
    "# GET с query и default\n",
    "r = requests.get(\"http://127.0.0.1:8000/examples/sum\", params={\"a\":5,\"b\":7})\n",
    "r.json()"
   ]
  },
  {
   "cell_type": "code",
   "execution_count": 11,
   "id": "95d6e44f",
   "metadata": {},
   "outputs": [
    {
     "data": {
      "text/plain": [
       "{'item_id': 99, 'query': 'query'}"
      ]
     },
     "execution_count": 11,
     "metadata": {},
     "output_type": "execute_result"
    }
   ],
   "source": [
    "# 8. /items/{item_id} + query\n",
    "# GET с Path + Query\n",
    "r = requests.get(\"http://127.0.0.1:8000/examples/items/99\", params={\"q\":\"query\"})\n",
    "r.json()"
   ]
  },
  {
   "cell_type": "code",
   "execution_count": 12,
   "id": "733cd5eb",
   "metadata": {},
   "outputs": [
    {
     "data": {
      "text/plain": [
       "{'name': 'test', 'status': 'created'}"
      ]
     },
     "execution_count": 12,
     "metadata": {},
     "output_type": "execute_result"
    }
   ],
   "source": [
    "# 9. /create\n",
    "# POST с JSONResponse\n",
    "r = requests.post(\"http://127.0.0.1:8000/examples/create\", json={\"name\":\"test\"})\n",
    "r.json()"
   ]
  },
  {
   "cell_type": "code",
   "execution_count": 13,
   "id": "7148ffd3",
   "metadata": {},
   "outputs": [
    {
     "data": {
      "text/plain": [
       "{'feature_enabled': False}"
      ]
     },
     "execution_count": 13,
     "metadata": {},
     "output_type": "execute_result"
    }
   ],
   "source": [
    "# 10. /feature\n",
    "# GET с булевым query\n",
    "r = requests.get(\"http://127.0.0.1:8000/examples/feature\", params={\"enabled\":False})\n",
    "r.json()"
   ]
  },
  {
   "cell_type": "code",
   "execution_count": null,
   "id": "f3a97335",
   "metadata": {},
   "outputs": [],
   "source": [
    "# 11. /optional/{name}\n",
    "# GET с optional path\n",
    "r = requests.get(\"http://127.0.0.1:8000/examples/optional\", params={\"name\":\"Alex\"})\n",
    "r.json()"
   ]
  },
  {
   "cell_type": "code",
   "execution_count": 14,
   "id": "d9eb8b2d",
   "metadata": {},
   "outputs": [
    {
     "data": {
      "text/plain": [
       "{'tags': ['red', 'blue']}"
      ]
     },
     "execution_count": 14,
     "metadata": {},
     "output_type": "execute_result"
    }
   ],
   "source": [
    "# 12. /tags (массив query)\n",
    "# GET с массивом query\n",
    "r = requests.get(\"http://127.0.0.1:8000/examples/tags\", params=[(\"tags\",\"red\"),(\"tags\",\"blue\")])\n",
    "r.json()"
   ]
  },
  {
   "cell_type": "code",
   "execution_count": 15,
   "id": "91536c22",
   "metadata": {},
   "outputs": [
    {
     "data": {
      "text/plain": [
       "{'count': 2, 'items': [{'id': 1}, {'id': 2}]}"
      ]
     },
     "execution_count": 15,
     "metadata": {},
     "output_type": "execute_result"
    }
   ],
   "source": [
    "# 13. /bulk (массив словарей)\n",
    "# POST с массивом словарей\n",
    "r = requests.post(\"http://127.0.0.1:8000/examples/bulk\", json=[{\"id\":1},{\"id\":2}])\n",
    "r.json()"
   ]
  },
  {
   "cell_type": "code",
   "execution_count": 16,
   "id": "12562aae",
   "metadata": {},
   "outputs": [
    {
     "data": {
      "text/plain": [
       "{'X-Token': '123'}"
      ]
     },
     "execution_count": 16,
     "metadata": {},
     "output_type": "execute_result"
    }
   ],
   "source": [
    "# 14. /header\n",
    "# GET с заголовком\n",
    "r = requests.get(\"http://127.0.0.1:8000/examples/header\", headers={\"X-Token\":\"123\"})\n",
    "r.json()"
   ]
  },
  {
   "cell_type": "code",
   "execution_count": 17,
   "id": "68e9fb9c",
   "metadata": {},
   "outputs": [
    {
     "data": {
      "text/plain": [
       "{'my_cookie': 'test'}"
      ]
     },
     "execution_count": 17,
     "metadata": {},
     "output_type": "execute_result"
    }
   ],
   "source": [
    "# 15. /cookie\n",
    "# GET с кукой\n",
    "r = requests.get(\"http://127.0.0.1:8000/examples/cookie\", cookies={\"my_cookie\":\"test\"})\n",
    "r.json()"
   ]
  },
  {
   "cell_type": "code",
   "execution_count": 18,
   "id": "a6b53973",
   "metadata": {},
   "outputs": [
    {
     "data": {
      "text/plain": [
       "{'username': 'alex', 'password_length': 3}"
      ]
     },
     "execution_count": 18,
     "metadata": {},
     "output_type": "execute_result"
    }
   ],
   "source": [
    "# 16. /login\n",
    "# POST с формой\n",
    "r = requests.post(\"http://127.0.0.1:8000/examples/login\", data={\"username\":\"alex\",\"password\":\"123\"})\n",
    "r.json()"
   ]
  },
  {
   "cell_type": "code",
   "execution_count": 19,
   "id": "aa4c73c6",
   "metadata": {},
   "outputs": [
    {
     "data": {
      "text/plain": [
       "('http://127.0.0.1:8000/examples/hello', 200)"
      ]
     },
     "execution_count": 19,
     "metadata": {},
     "output_type": "execute_result"
    }
   ],
   "source": [
    "# 17. /redirect\n",
    "# GET с редиректом\n",
    "r = requests.get(\"http://127.0.0.1:8000/examples/redirect\")\n",
    "r.url, r.status_code"
   ]
  },
  {
   "cell_type": "code",
   "execution_count": 20,
   "id": "5acee54d",
   "metadata": {},
   "outputs": [
    {
     "data": {
      "text/plain": [
       "{'message': 'JSON сообщение'}"
      ]
     },
     "execution_count": 20,
     "metadata": {},
     "output_type": "execute_result"
    }
   ],
   "source": [
    "# 18. /dynamic/{format}\n",
    "# GET с динамическим форматом\n",
    "r = requests.get(\"http://127.0.0.1:8000/examples/dynamic/json\")\n",
    "r.json()"
   ]
  },
  {
   "cell_type": "code",
   "execution_count": 21,
   "id": "5a7f132d",
   "metadata": {},
   "outputs": [
    {
     "data": {
      "text/plain": [
       "{'query': 'fastapi', 'limit': 5}"
      ]
     },
     "execution_count": 21,
     "metadata": {},
     "output_type": "execute_result"
    }
   ],
   "source": [
    "# 19. /search\n",
    "# GET с optional query и default\n",
    "r = requests.get(\"http://127.0.0.1:8000/examples/search\", params={\"q\":\"fastapi\",\"limit\":5})\n",
    "r.json()"
   ]
  },
  {
   "cell_type": "code",
   "execution_count": 22,
   "id": "377208a8",
   "metadata": {},
   "outputs": [
    {
     "data": {
      "text/plain": [
       "{'received_nested': {'a': 1}}"
      ]
     },
     "execution_count": 22,
     "metadata": {},
     "output_type": "execute_result"
    }
   ],
   "source": [
    "# 20. /nested\n",
    "# POST с вложенным словарем\n",
    "r = requests.post(\"http://127.0.0.1:8000/examples/nested\", json={\"nested\":{\"a\":1}})\n",
    "r.json()"
   ]
  },
  {
   "cell_type": "code",
   "execution_count": 23,
   "id": "a0a6937a",
   "metadata": {},
   "outputs": [
    {
     "data": {
      "text/plain": [
       "{'age': 25, 'status': 'valid'}"
      ]
     },
     "execution_count": 23,
     "metadata": {},
     "output_type": "execute_result"
    }
   ],
   "source": [
    "# 21. /age/{age}\n",
    "# GET с path int + validation\n",
    "r = requests.get(\"http://127.0.0.1:8000/examples/age/25\")\n",
    "r.json()"
   ]
  },
  {
   "cell_type": "code",
   "execution_count": 24,
   "id": "ee59f63c",
   "metadata": {},
   "outputs": [
    {
     "data": {
      "text/plain": [
       "{'message': 'Access granted', 'token': 'mysecrettoken'}"
      ]
     },
     "execution_count": 24,
     "metadata": {},
     "output_type": "execute_result"
    }
   ],
   "source": [
    "# 22. /protected (Authorization)\n",
    "# GET с проверкой авторизации\n",
    "r = requests.get(\"http://127.0.0.1:8000/examples/protected\", headers={\"Authorization\":\"Bearer mysecrettoken\"})\n",
    "r.json()"
   ]
  },
  {
   "cell_type": "code",
   "execution_count": 25,
   "id": "2d277fd1",
   "metadata": {},
   "outputs": [
    {
     "name": "stdout",
     "output_type": "stream",
     "text": [
      "Подключено к WebSocket\n",
      "Отправлено: Сообщение 1\n",
      "Отправлено: Сообщение 2\n",
      "Отправлено: Сообщение 3\n",
      "Отправлено: Сообщение 4\n",
      "Отправлено: Сообщение 5\n",
      "Завершили отправку сообщений. WebSocket закроется автоматически.\n"
     ]
    }
   ],
   "source": [
    "# 23. WebSocket\n",
    "# Пример WebSocket-клиента в Jupyter\n",
    "# Отправляет 5 сообщений на сервер ws://127.0.0.1:8000/examples/ws и завершает задачу\n",
    "\n",
    "import asyncio\n",
    "import websockets\n",
    "import nest_asyncio\n",
    "\n",
    "nest_asyncio.apply()  # разрешает запуск asyncio в Jupyter\n",
    "\n",
    "async def send_messages():\n",
    "    uri = \"ws://127.0.0.1:8000/examples/ws\"\n",
    "    # подключаемся к серверу\n",
    "    async with websockets.connect(uri) as websocket:\n",
    "        print(\"Подключено к WebSocket\")\n",
    "        for count in range(1, 6):  # отправим ровно 5 сообщений\n",
    "            msg = f\"Сообщение {count}\"\n",
    "            await websocket.send(msg)  # отправка сообщения\n",
    "            print(f\"Отправлено: {msg}\")\n",
    "            await asyncio.sleep(1)  # пауза 1 секунда\n",
    "        print(\"Завершили отправку сообщений. WebSocket закроется автоматически.\")\n",
    "\n",
    "# В Jupyter можно напрямую await корутину\n",
    "await send_messages() "
   ]
  }
 ],
 "metadata": {
  "kernelspec": {
   "display_name": ".venv",
   "language": "python",
   "name": "python3"
  },
  "language_info": {
   "codemirror_mode": {
    "name": "ipython",
    "version": 3
   },
   "file_extension": ".py",
   "mimetype": "text/x-python",
   "name": "python",
   "nbconvert_exporter": "python",
   "pygments_lexer": "ipython3",
   "version": "3.13.1"
  }
 },
 "nbformat": 4,
 "nbformat_minor": 5
}
