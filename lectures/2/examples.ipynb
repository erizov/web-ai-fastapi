{
 "cells": [
  {
   "cell_type": "code",
   "execution_count": 2,
   "id": "33158e9a",
   "metadata": {},
   "outputs": [
    {
     "name": "stdout",
     "output_type": "stream",
     "text": [
      "{'result': 49}\n"
     ]
    }
   ],
   "source": [
    "# 1. Типизация: целое число\n",
    "\n",
    "import requests\n",
    "resp = requests.get(\"http://127.0.0.1:8000/examples/square/7\")\n",
    "print(resp.json())"
   ]
  },
  {
   "cell_type": "code",
   "execution_count": 3,
   "id": "a8c3e10a",
   "metadata": {},
   "outputs": [
    {
     "name": "stdout",
     "output_type": "stream",
     "text": [
      "{'sum': 10}\n"
     ]
    }
   ],
   "source": [
    "# 2. Типизация: список чисел\n",
    "\n",
    "import requests\n",
    "resp = requests.post(\"http://127.0.0.1:8000/examples/sum\", json=[1,2,3,4])\n",
    "print(resp.json())"
   ]
  },
  {
   "cell_type": "code",
   "execution_count": 7,
   "id": "0b2acd2a",
   "metadata": {},
   "outputs": [
    {
     "name": "stdout",
     "output_type": "stream",
     "text": [
      "{'msg': 'User Алиса created'}\n"
     ]
    }
   ],
   "source": [
    "# 3. Pydantic: простая модель\n",
    "\n",
    "import requests\n",
    "resp = requests.post(\"http://127.0.0.1:8000/examples/user\", json={\"id\":11,\"name\":\"Алиса\"})\n",
    "print(resp.json())"
   ]
  },
  {
   "cell_type": "code",
   "execution_count": 8,
   "id": "9c6c5b29",
   "metadata": {},
   "outputs": [
    {
     "name": "stdout",
     "output_type": "stream",
     "text": [
      "{'msg': 'Bob lives in Moscow'}\n"
     ]
    }
   ],
   "source": [
    "# 4. Pydantic: вложенные модели\n",
    "\n",
    "import requests\n",
    "resp = requests.post(\n",
    "    \"http://127.0.0.1:8000/examples/person\",\n",
    "    json={\"name\":\"Bob\",\"address\":{\"city\":\"Moscow\",\"street\":\"Arbat\"}}\n",
    ")\n",
    "print(resp.json())"
   ]
  },
  {
   "cell_type": "code",
   "execution_count": null,
   "id": "dbb0231a",
   "metadata": {},
   "outputs": [
    {
     "name": "stdout",
     "output_type": "stream",
     "text": [
      "{'detail': [{'type': 'value_error', 'loc': ['body', 'email'], 'msg': 'value is not a valid email address: There must be something before the @-sign.', 'input': '@testexample.com', 'ctx': {'reason': 'There must be something before the @-sign.'}}]}\n"
     ]
    }
   ],
   "source": [
    "# 5. Валидация: email\n",
    "\n",
    "import requests\n",
    "resp = requests.post(\"http://127.0.0.1:8000/examples/contact\", json={\"email\":\"test@example.com\"})\n",
    "print(resp.json())"
   ]
  },
  {
   "cell_type": "code",
   "execution_count": 16,
   "id": "32a9e451",
   "metadata": {},
   "outputs": [
    {
     "name": "stdout",
     "output_type": "stream",
     "text": [
      "{'note': 'Short'}\n"
     ]
    }
   ],
   "source": [
    "# 6. Валидация: ограничение строки\n",
    "\n",
    "import requests\n",
    "resp = requests.post(\"http://127.0.0.1:8000/examples/note\", json={\"text\":\"Short\"})\n",
    "print(resp.json())"
   ]
  },
  {
   "cell_type": "code",
   "execution_count": null,
   "id": "78bfba45",
   "metadata": {},
   "outputs": [
    {
     "name": "stdout",
     "output_type": "stream",
     "text": [
      "{'detail': [{'type': 'less_than_equal', 'loc': ['body', 'value'], 'msg': 'Input should be less than or equal to 5', 'input': 40, 'ctx': {'le': 5}}]}\n"
     ]
    }
   ],
   "source": [
    "# 7. Валидация: диапазон числа\n",
    "\n",
    "import requests\n",
    "resp = requests.post(\"http://127.0.0.1:8000/examples/rate\", json={\"value\":4})\n",
    "print(resp.json())"
   ]
  },
  {
   "cell_type": "code",
   "execution_count": 22,
   "id": "fe1895b5",
   "metadata": {},
   "outputs": [
    {
     "name": "stdout",
     "output_type": "stream",
     "text": [
      "{'tags': ['python', 'fastapi']}\n"
     ]
    }
   ],
   "source": [
    "# 8. Валидация: список строк\n",
    "\n",
    "import requests\n",
    "resp = requests.post(\"http://127.0.0.1:8000/examples/tags\", json={\"tags\":[\"python\",\"fastapi\"]})\n",
    "print(resp.json())"
   ]
  },
  {
   "cell_type": "code",
   "execution_count": null,
   "id": "0cd9f7d2",
   "metadata": {},
   "outputs": [
    {
     "name": "stdout",
     "output_type": "stream",
     "text": [
      "{'result': 5.0}\n"
     ]
    }
   ],
   "source": [
    "\n",
    "# 9. Ошибки: деление на ноль (400)\n",
    "\n",
    "import requests\n",
    "resp = requests.get(\"http://127.0.0.1:8000/examples/divide\", params={\"x\":10,\"y\":0})\n",
    "print(resp.json())"
   ]
  },
  {
   "cell_type": "code",
   "execution_count": 27,
   "id": "e30caa3a",
   "metadata": {},
   "outputs": [
    {
     "name": "stdout",
     "output_type": "stream",
     "text": [
      "{'detail': 'User not found'}\n"
     ]
    }
   ],
   "source": [
    "# 10. Ошибки: пользователь не найден (404)\n",
    "\n",
    "import requests\n",
    "resp = requests.get(\"http://127.0.0.1:8000/examples/user/2\")\n",
    "print(resp.json())"
   ]
  }
 ],
 "metadata": {
  "kernelspec": {
   "display_name": ".venv",
   "language": "python",
   "name": "python3"
  },
  "language_info": {
   "codemirror_mode": {
    "name": "ipython",
    "version": 3
   },
   "file_extension": ".py",
   "mimetype": "text/x-python",
   "name": "python",
   "nbconvert_exporter": "python",
   "pygments_lexer": "ipython3",
   "version": "3.13.1"
  }
 },
 "nbformat": 4,
 "nbformat_minor": 5
}
